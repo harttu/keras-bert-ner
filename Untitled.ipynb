{
 "cells": [
  {
   "cell_type": "code",
   "execution_count": 1,
   "metadata": {},
   "outputs": [],
   "source": [
    "## Load models"
   ]
  },
  {
   "cell_type": "code",
   "execution_count": null,
   "metadata": {},
   "outputs": [],
   "source": [
    "from keras_bert import load_trained_model_from_checkpoint, AdamWarmup"
   ]
  },
  {
   "cell_type": "code",
   "execution_count": null,
   "metadata": {},
   "outputs": [],
   "source": [
    "def load_pretrained(options):\n",
    "    model = load_trained_model_from_checkpoint(\n",
    "        options.bert_config_file,\n",
    "        options.init_checkpoint,\n",
    "        training=False,\n",
    "        trainable=True,\n",
    "        seq_len=options.max_seq_length,\n",
    "    )\n",
    "    tokenizer = tokenization.FullTokenizer(\n",
    "        vocab_file=options.vocab_file,\n",
    "        do_lower_case=options.do_lower_case\n",
    "    )\n",
    "    return model, tokenizer"
   ]
  },
  {
   "cell_type": "code",
   "execution_count": null,
   "metadata": {},
   "outputs": [],
   "source": []
  },
  {
   "cell_type": "code",
   "execution_count": null,
   "metadata": {},
   "outputs": [],
   "source": [
    "def main(argv):\n",
    "    argparser = argument_parser()\n",
    "    args = argparser.parse_args(argv[1:])\n",
    "    seq_len = args.max_seq_length    # abbreviation\n",
    "\n",
    "    #print(args)\n",
    "    #exit(1)\n",
    "    pretrained_model, tokenizer = load_pretrained(args)\n",
    "\n",
    "    train_words, train_tags = read_conll(args.train_data)\n",
    "    test_words, test_tags = read_conll(args.test_data)\n",
    "    train_data = process_sentences(train_words, train_tags, tokenizer, seq_len)\n",
    "    test_data = process_sentences(test_words, test_tags, tokenizer, seq_len)\n",
    "\n",
    "    label_list = get_labels(train_data.labels)\n",
    "    tag_map = { l: i for i, l in enumerate(label_list) }\n",
    "    inv_tag_map = { v: k for k, v in tag_map.items() }\n",
    "\n",
    "    init_prob, trans_prob = viterbi_probabilities(train_data.labels, tag_map)\n",
    "\n",
    "    train_x = encode(train_data.combined_tokens, tokenizer, seq_len)\n",
    "    test_x = encode(test_data.combined_tokens, tokenizer, seq_len)\n",
    "\n",
    "    train_y, train_weights = label_encode(\n",
    "        train_data.combined_labels, tag_map, seq_len)\n",
    "    test_y, test_weights = label_encode(\n",
    "        test_data.combined_labels, tag_map, seq_len)\n",
    "\n",
    "    ner_model = create_ner_model(pretrained_model, len(tag_map))\n",
    "    optimizer = create_optimizer(len(train_x[0]), args)\n",
    "\n",
    "    ner_model.compile(\n",
    "        optimizer,\n",
    "        loss='sparse_categorical_crossentropy',\n",
    "        sample_weight_mode='temporal',\n",
    "        metrics=['sparse_categorical_accuracy']\n",
    "    )\n",
    "\n",
    "    callbacks_list = [\n",
    "    keras.callbacks.EarlyStopping(monitor='val_loss',patience=1,),\n",
    "    keras.callbacks.ModelCheckpoint(filepath=args.ner_model_dir+'/model.hdf5',\n",
    "    monitor='val_loss',save_best_only=True,)]\n",
    "\n",
    "    if args.early_stopping:\n",
    "        print(\"NER:Using early stopping.\")\n",
    "        ner_model.fit(\n",
    "        train_x,train_y,sample_weight=train_weights,epochs=args.num_train_epochs,\n",
    "        batch_size=args.batch_size,callbacks=callbacks_list,validation_data=(test_x,test_y))\n",
    "    else:\n",
    "        ner_model.fit(train_x,train_y,sample_weight=train_weights,\n",
    "        epochs=args.num_train_epochs,batch_size=args.batch_size,)\n",
    "\n",
    "    if args.ner_model_dir is not None:\n",
    "        label_list = [v for k, v in sorted(list(inv_tag_map.items()))]\n",
    "        save_ner_model(ner_model, tokenizer, label_list, args)\n",
    "        save_viterbi_probabilities(init_prob, trans_prob, inv_tag_map, args)\n",
    "\n",
    "    probs = ner_model.predict(test_x, batch_size=args.batch_size)\n",
    "    preds = np.argmax(probs, axis=-1)\n",
    "\n",
    "    pred_tags = []\n",
    "    for i, pred in enumerate(preds):\n",
    "        pred_tags.append([inv_tag_map[t]\n",
    "                          for t in pred[1:len(test_data.tokens[i])+1]])\n",
    "\n",
    "    lines = write_result(\n",
    "        args.output_file, test_data.words, test_data.lengths,\n",
    "        test_data.tokens, test_data.labels, pred_tags\n",
    "    )\n",
    "\n",
    "    c = conlleval.evaluate(lines)\n",
    "    conlleval.report(c)\n",
    "    return 0\n",
    "\n",
    "\n",
    "if __name__ == '__main__':\n",
    "    sys.exit(main(sys.argv))\n"
   ]
  },
  {
   "cell_type": "code",
   "execution_count": null,
   "metadata": {},
   "outputs": [],
   "source": []
  },
  {
   "cell_type": "code",
   "execution_count": null,
   "metadata": {},
   "outputs": [],
   "source": []
  }
 ],
 "metadata": {
  "kernelspec": {
   "display_name": "Python 3",
   "language": "python",
   "name": "python3"
  },
  "language_info": {
   "codemirror_mode": {
    "name": "ipython",
    "version": 3
   },
   "file_extension": ".py",
   "mimetype": "text/x-python",
   "name": "python",
   "nbconvert_exporter": "python",
   "pygments_lexer": "ipython3",
   "version": "3.7.3"
  }
 },
 "nbformat": 4,
 "nbformat_minor": 2
}
