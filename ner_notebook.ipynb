{
 "cells": [
  {
   "cell_type": "code",
   "execution_count": 5,
   "metadata": {},
   "outputs": [
    {
     "name": "stdout",
     "output_type": "stream",
     "text": [
      "\u001b[?1h\u001b=\r",
      "\u001b[m\r\n",
      "Currently Loaded Modules:\u001b[m\r\n",
      "  1) gcc/7.4.0   2) tensorflow/1.14.0\u001b[m\r\n",
      "\u001b[m\r\n",
      " \u001b[m\r\n",
      "\u001b[m\r\n",
      "\r",
      "\u001b[K\u001b[?1l\u001b>"
     ]
    }
   ],
   "source": [
    "!module list"
   ]
  },
  {
   "cell_type": "code",
   "execution_count": 15,
   "metadata": {},
   "outputs": [
    {
     "name": "stdout",
     "output_type": "stream",
     "text": [
      "{\r\n",
      " \"argv\": [\r\n",
      "  \"/users/htoivone/keras-bert-ner/venv/bin/python\",\r\n",
      "  \"-m\",\r\n",
      "  \"ipykernel_launcher\",\r\n",
      "  \"-f\",\r\n",
      "  \"{connection_file}\"\r\n",
      " ],\r\n",
      " \"display_name\": \"venv\",\r\n",
      " \"language\": \"python\"\r\n",
      "}"
     ]
    }
   ],
   "source": [
    "!cat /users/htoivone/.local/share/jupyter/kernels/venv/kernel.json"
   ]
  },
  {
   "cell_type": "code",
   "execution_count": 17,
   "metadata": {},
   "outputs": [
    {
     "name": "stdout",
     "output_type": "stream",
     "text": [
      "keras-bert                       0.86.0   \r\n"
     ]
    }
   ],
   "source": [
    "!pip list | grep keras-bert"
   ]
  },
  {
   "cell_type": "code",
   "execution_count": 2,
   "metadata": {},
   "outputs": [
    {
     "name": "stdout",
     "output_type": "stream",
     "text": [
      "Collecting keras-bert\n",
      "Requirement already satisfied: numpy in /appl/soft/ai/miniconda3/envs/tensorflow-1.14.0/lib/python3.7/site-packages (from keras-bert) (1.16.4)\n",
      "Collecting Keras>=2.4.3 (from keras-bert)\n",
      "ERROR: Pipe to stdout was broken\n",
      "Exception ignored in: <_io.TextIOWrapper name='<stdout>' mode='w' encoding='UTF-8'>\n",
      "BrokenPipeError: [Errno 32] Broken pipe\n"
     ]
    }
   ],
   "source": [
    "!pip install keras-bert | head -3"
   ]
  },
  {
   "cell_type": "code",
   "execution_count": 18,
   "metadata": {},
   "outputs": [],
   "source": [
    "!source venv/bin/activate"
   ]
  },
  {
   "cell_type": "code",
   "execution_count": 19,
   "metadata": {},
   "outputs": [
    {
     "ename": "ModuleNotFoundError",
     "evalue": "No module named 'keras_bert'",
     "output_type": "error",
     "traceback": [
      "\u001b[0;31m---------------------------------------------------------------------------\u001b[0m",
      "\u001b[0;31mModuleNotFoundError\u001b[0m                       Traceback (most recent call last)",
      "\u001b[0;32m<ipython-input-19-fde18d64b96d>\u001b[0m in \u001b[0;36m<module>\u001b[0;34m\u001b[0m\n\u001b[0;32m----> 1\u001b[0;31m \u001b[0;32mimport\u001b[0m \u001b[0mkeras_bert\u001b[0m\u001b[0;34m\u001b[0m\u001b[0;34m\u001b[0m\u001b[0m\n\u001b[0m",
      "\u001b[0;31mModuleNotFoundError\u001b[0m: No module named 'keras_bert'"
     ]
    }
   ],
   "source": [
    "import keras_bert"
   ]
  },
  {
   "cell_type": "code",
   "execution_count": 18,
   "metadata": {},
   "outputs": [
    {
     "ename": "ModuleNotFoundError",
     "evalue": "No module named 'keras_bert'",
     "output_type": "error",
     "traceback": [
      "\u001b[0;31m---------------------------------------------------------------------------\u001b[0m",
      "\u001b[0;31mModuleNotFoundError\u001b[0m                       Traceback (most recent call last)",
      "\u001b[0;32m<ipython-input-18-a38bf1cb28d4>\u001b[0m in \u001b[0;36m<module>\u001b[0;34m\u001b[0m\n\u001b[1;32m      1\u001b[0m \u001b[0;32mfrom\u001b[0m \u001b[0mbert\u001b[0m \u001b[0;32mimport\u001b[0m \u001b[0mtokenization\u001b[0m\u001b[0;34m\u001b[0m\u001b[0;34m\u001b[0m\u001b[0m\n\u001b[0;32m----> 2\u001b[0;31m \u001b[0;32mfrom\u001b[0m \u001b[0mkeras_bert\u001b[0m \u001b[0;32mimport\u001b[0m \u001b[0mload_trained_model_from_checkpoint\u001b[0m\u001b[0;34m,\u001b[0m \u001b[0mAdamWarmup\u001b[0m\u001b[0;34m\u001b[0m\u001b[0;34m\u001b[0m\u001b[0m\n\u001b[0m",
      "\u001b[0;31mModuleNotFoundError\u001b[0m: No module named 'keras_bert'"
     ]
    }
   ],
   "source": [
    "from bert import tokenization\n",
    "from keras_bert import load_trained_model_from_checkpoint, AdamWarmup"
   ]
  },
  {
   "cell_type": "markdown",
   "metadata": {},
   "source": [
    "!module list"
   ]
  },
  {
   "cell_type": "code",
   "execution_count": 7,
   "metadata": {},
   "outputs": [
    {
     "name": "stdout",
     "output_type": "stream",
     "text": [
      "Requirement already satisfied: keras-bert in ./venv/lib/python3.7/site-packages (from -r requirements.txt (line 1)) (0.86.0)\n",
      "Requirement already satisfied: keras-transformer>=0.38.0 in ./venv/lib/python3.7/site-packages (from keras-bert->-r requirements.txt (line 1)) (0.38.0)\n",
      "Collecting Keras>=2.4.3 (from keras-bert->-r requirements.txt (line 1))\n",
      "  Using cached https://files.pythonhosted.org/packages/44/e1/dc0757b20b56c980b5553c1b5c4c32d378c7055ab7bfa92006801ad359ab/Keras-2.4.3-py2.py3-none-any.whl\n",
      "Requirement already satisfied: numpy in /appl/soft/ai/miniconda3/envs/tensorflow-1.14.0/lib/python3.7/site-packages (from keras-bert->-r requirements.txt (line 1)) (1.16.4)\n",
      "Requirement already satisfied: keras-layer-normalization>=0.14.0 in ./venv/lib/python3.7/site-packages (from keras-transformer>=0.38.0->keras-bert->-r requirements.txt (line 1)) (0.14.0)\n",
      "Requirement already satisfied: keras-position-wise-feed-forward>=0.6.0 in ./venv/lib/python3.7/site-packages (from keras-transformer>=0.38.0->keras-bert->-r requirements.txt (line 1)) (0.6.0)\n",
      "Requirement already satisfied: keras-embed-sim>=0.8.0 in ./venv/lib/python3.7/site-packages (from keras-transformer>=0.38.0->keras-bert->-r requirements.txt (line 1)) (0.8.0)\n",
      "Requirement already satisfied: keras-multi-head>=0.27.0 in ./venv/lib/python3.7/site-packages (from keras-transformer>=0.38.0->keras-bert->-r requirements.txt (line 1)) (0.27.0)\n",
      "Requirement already satisfied: keras-pos-embd>=0.11.0 in ./venv/lib/python3.7/site-packages (from keras-transformer>=0.38.0->keras-bert->-r requirements.txt (line 1)) (0.11.0)\n",
      "Requirement already satisfied: h5py in /appl/soft/ai/miniconda3/envs/tensorflow-1.14.0/lib/python3.7/site-packages (from Keras>=2.4.3->keras-bert->-r requirements.txt (line 1)) (2.9.0)\n",
      "Requirement already satisfied: scipy>=0.14 in /appl/soft/ai/miniconda3/envs/tensorflow-1.14.0/lib/python3.7/site-packages (from Keras>=2.4.3->keras-bert->-r requirements.txt (line 1)) (1.3.0)\n",
      "Requirement already satisfied: pyyaml in /appl/soft/ai/miniconda3/envs/tensorflow-1.14.0/lib/python3.7/site-packages (from Keras>=2.4.3->keras-bert->-r requirements.txt (line 1)) (5.1.1)\n",
      "Requirement already satisfied: keras-self-attention==0.46.0 in ./venv/lib/python3.7/site-packages (from keras-multi-head>=0.27.0->keras-transformer>=0.38.0->keras-bert->-r requirements.txt (line 1)) (0.46.0)\n",
      "Requirement already satisfied: six in /appl/soft/ai/miniconda3/envs/tensorflow-1.14.0/lib/python3.7/site-packages (from h5py->Keras>=2.4.3->keras-bert->-r requirements.txt (line 1)) (1.12.0)\n",
      "Installing collected packages: Keras\n",
      "  Found existing installation: Keras 2.2.4\n",
      "    Not uninstalling keras at /appl/soft/ai/miniconda3/envs/tensorflow-1.14.0/lib/python3.7/site-packages, outside environment /users/htoivone/keras-bert-ner/venv\n",
      "    Can't uninstall 'Keras'. No files were found to uninstall.\n",
      "Successfully installed Keras-2.4.3\n"
     ]
    }
   ],
   "source": [
    "!pip install -r requirements.txt\n"
   ]
  },
  {
   "cell_type": "code",
   "execution_count": 6,
   "metadata": {},
   "outputs": [
    {
     "name": "stdout",
     "output_type": "stream",
     "text": [
      "/users/htoivone/keras-bert-ner\r\n"
     ]
    }
   ],
   "source": [
    "!pwd"
   ]
  },
  {
   "cell_type": "code",
   "execution_count": null,
   "metadata": {},
   "outputs": [],
   "source": [
    "def load_pretrained(options):\n",
    "    model = load_trained_model_from_checkpoint(\n",
    "        options.bert_config_file,\n",
    "        options.init_checkpoint,\n",
    "        training=False,\n",
    "        trainable=True,\n",
    "        seq_len=options.max_seq_length,\n",
    "    )\n",
    "    tokenizer = tokenization.FullTokenizer(\n",
    "        vocab_file=options.vocab_file,\n",
    "        do_lower_case=options.do_lower_case\n",
    "    )\n",
    "    return model, tokenizer"
   ]
  },
  {
   "cell_type": "code",
   "execution_count": null,
   "metadata": {},
   "outputs": [],
   "source": []
  },
  {
   "cell_type": "code",
   "execution_count": null,
   "metadata": {},
   "outputs": [],
   "source": [
    "from argparse import Namespace\n",
    "\n",
    "args = Namespace(\n",
    "    batch_size=4, \n",
    "    bert_config_file='/users/htoivone/links/august/scripts/../models/bert-base-finnish-cased-v1/bert_config.json',\n",
    "    dev_data=None, \n",
    "    do_lower_case=False, \n",
    "    early_stopping=False, \n",
    "    init_checkpoint='/users/htoivone/links/august/scripts/../models/bert-base-finnish-cased-v1/bert_model.ckpt', \n",
    "    learning_rate=5e-05, \n",
    "    max_seq_length=128, \n",
    "    ner_model_dir='/users/htoivone/links/august/scripts/../ner-models/turku-ner2-model', \n",
    "    num_train_epochs=4, \n",
    "    output_file='output.tsv', \n",
    "    test_data='/users/htoivone/links/august/scripts/../data/AnatEM-1.0.2/conll_single_class//test.tsv', \n",
    "    train_data='/users/htoivone/links/august/scripts/../data/AnatEM-1.0.2/conll_single_class//train.tsv', \n",
    "    viterbi=False, \n",
    "    vocab_file='/users/htoivone/links/august/scripts/../models/bert-base-finnish-cased-v1/vocab.txt', \n",
    "    warmup_proportion=0.1)"
   ]
  },
  {
   "cell_type": "code",
   "execution_count": null,
   "metadata": {},
   "outputs": [],
   "source": [
    "def main(argv):\n",
    "    argparser = argument_parser()\n",
    "    args = argparser.parse_args(argv[1:])\n",
    "    seq_len = args.max_seq_length    # abbreviation\n",
    "\n",
    "    #print(args)\n",
    "    #exit(1)\n",
    "    pretrained_model, tokenizer = load_pretrained(args)\n",
    "\n",
    "    train_words, train_tags = read_conll(args.train_data)\n",
    "    test_words, test_tags = read_conll(args.test_data)\n",
    "    train_data = process_sentences(train_words, train_tags, tokenizer, seq_len)\n",
    "    test_data = process_sentences(test_words, test_tags, tokenizer, seq_len)\n",
    "\n",
    "    label_list = get_labels(train_data.labels)\n",
    "    tag_map = { l: i for i, l in enumerate(label_list) }\n",
    "    inv_tag_map = { v: k for k, v in tag_map.items() }\n",
    "\n",
    "    init_prob, trans_prob = viterbi_probabilities(train_data.labels, tag_map)\n",
    "\n",
    "    train_x = encode(train_data.combined_tokens, tokenizer, seq_len)\n",
    "    test_x = encode(test_data.combined_tokens, tokenizer, seq_len)\n",
    "\n",
    "    train_y, train_weights = label_encode(\n",
    "        train_data.combined_labels, tag_map, seq_len)\n",
    "    test_y, test_weights = label_encode(\n",
    "        test_data.combined_labels, tag_map, seq_len)\n",
    "\n",
    "    ner_model = create_ner_model(pretrained_model, len(tag_map))\n",
    "    optimizer = create_optimizer(len(train_x[0]), args)\n",
    "\n",
    "    ner_model.compile(\n",
    "        optimizer,\n",
    "        loss='sparse_categorical_crossentropy',\n",
    "        sample_weight_mode='temporal',\n",
    "        metrics=['sparse_categorical_accuracy']\n",
    "    )\n",
    "\n",
    "    callbacks_list = [\n",
    "    keras.callbacks.EarlyStopping(monitor='val_loss',patience=1,),\n",
    "    keras.callbacks.ModelCheckpoint(filepath=args.ner_model_dir+'/model.hdf5',\n",
    "    monitor='val_loss',save_best_only=True,)]\n",
    "\n",
    "    if args.early_stopping:\n",
    "        print(\"NER:Using early stopping.\")\n",
    "        ner_model.fit(\n",
    "        train_x,train_y,sample_weight=train_weights,epochs=args.num_train_epochs,\n",
    "        batch_size=args.batch_size,callbacks=callbacks_list,validation_data=(test_x,test_y))\n",
    "    else:\n",
    "        ner_model.fit(train_x,train_y,sample_weight=train_weights,\n",
    "        epochs=args.num_train_epochs,batch_size=args.batch_size,)\n",
    "\n",
    "    if args.ner_model_dir is not None:\n",
    "        label_list = [v for k, v in sorted(list(inv_tag_map.items()))]\n",
    "        save_ner_model(ner_model, tokenizer, label_list, args)\n",
    "        save_viterbi_probabilities(init_prob, trans_prob, inv_tag_map, args)\n",
    "\n",
    "    probs = ner_model.predict(test_x, batch_size=args.batch_size)\n",
    "    preds = np.argmax(probs, axis=-1)\n",
    "\n",
    "    pred_tags = []\n",
    "    for i, pred in enumerate(preds):\n",
    "        pred_tags.append([inv_tag_map[t]\n",
    "                          for t in pred[1:len(test_data.tokens[i])+1]])\n",
    "\n",
    "    lines = write_result(\n",
    "        args.output_file, test_data.words, test_data.lengths,\n",
    "        test_data.tokens, test_data.labels, pred_tags\n",
    "    )\n",
    "\n",
    "    c = conlleval.evaluate(lines)\n",
    "    conlleval.report(c)\n",
    "    return 0\n",
    "\n",
    "\n",
    "if __name__ == '__main__':\n",
    "    sys.exit(main(sys.argv))\n"
   ]
  },
  {
   "cell_type": "code",
   "execution_count": null,
   "metadata": {},
   "outputs": [],
   "source": []
  },
  {
   "cell_type": "code",
   "execution_count": null,
   "metadata": {},
   "outputs": [],
   "source": []
  }
 ],
 "metadata": {
  "kernelspec": {
   "display_name": "Python 3",
   "language": "python",
   "name": "python3"
  },
  "language_info": {
   "codemirror_mode": {
    "name": "ipython",
    "version": 3
   },
   "file_extension": ".py",
   "mimetype": "text/x-python",
   "name": "python",
   "nbconvert_exporter": "python",
   "pygments_lexer": "ipython3",
   "version": "3.7.3"
  }
 },
 "nbformat": 4,
 "nbformat_minor": 2
}
